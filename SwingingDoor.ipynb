{
 "cells": [
  {
   "cell_type": "markdown",
   "metadata": {},
   "source": [
    "# Swinging Door #"
   ]
  },
  {
   "cell_type": "markdown",
   "metadata": {},
   "source": [
    "Реализация алгоритма Swinging Door на Python."
   ]
  },
  {
   "cell_type": "markdown",
   "metadata": {},
   "source": [
    "Литература:\n",
    " * [Патент US4669097](https://patents.google.com/patent/US4669097 \"patents.google.com\");\n",
    " * [Swinging Door Trending Compression Algorithm for IoT Environments](https://sol.sbc.org.br/index.php/sbesc_estendido/article/download/8650/8551/#:~:text=The%20Swing%20Door%20Trending%20(SDT,process%20information%20systems%20(PIMs). \"sol.sbc.org.br\");\n",
    " * [Компрессия данных в системах промышленной автоматизации. Алгоритм SwingingDoor](https://habr.com/ru/post/105652/ \"habr.com\");"
   ]
  },
  {
   "cell_type": "markdown",
   "metadata": {},
   "source": [
    "Реализация:"
   ]
  },
  {
   "cell_type": "code",
   "execution_count": 1,
   "metadata": {},
   "outputs": [],
   "source": [
    "class Point():\n",
    "    def __init__(self, *args):\n",
    "        self.x = args[0]\n",
    "        self.y = args[1]\n",
    "    \n",
    "    def __call__(self):\n",
    "        return self.x, self.y\n",
    "\n",
    "def swinging_door(data, deviation=.1):\n",
    "    cd = deviation\n",
    "    c = d = Point(*data.__next__())\n",
    "    \n",
    "    u = Point(c.x, c.y + cd)\n",
    "    l = Point(c.x, c.y - cd)\n",
    "    \n",
    "    su_max = sl_min = None\n",
    "    \n",
    "    yield c()\n",
    "    \n",
    "    while True:\n",
    "        p = d\n",
    "        \n",
    "        try:\n",
    "            d = Point(*data.__next__())\n",
    "        \n",
    "        except StopIteration:\n",
    "            break\n",
    "        \n",
    "        su = (d.y - u.y) / (d.x - u.x)\n",
    "        sl = (d.y - l.y) / (d.x - l.x)\n",
    "        \n",
    "        if not su_max and not sl_min:\n",
    "            su_max = su\n",
    "            sl_min = sl\n",
    "            \n",
    "            continue\n",
    "            \n",
    "        if su > su_max:\n",
    "            su_max = su\n",
    "            \n",
    "            if su_max > sl_min:\n",
    "                so = (d.y - p.y) / (d.x - p.x)\n",
    "                cu = (u.y - p.y + so * p.x - sl_min * u.x) / (so - sl_min)\n",
    "                c = Point(cu, u.y + sl_min * (cu - u.x) - cd / 2)\n",
    "                \n",
    "                yield c()\n",
    "                \n",
    "                u = Point(c.x, c.y + cd)\n",
    "                l = Point(c.x, c.y - cd)\n",
    "                \n",
    "                su_max = su = (d.y - u.y) / (d.x - u.x)\n",
    "                sl_min = sl = (d.y - l.y) / (d.x - l.x)\n",
    "        \n",
    "        elif sl < sl_min:\n",
    "            sl_min = sl\n",
    "            \n",
    "            if su_max > sl_min:\n",
    "                so = (d.y - p.y) / (d.x - p.x)\n",
    "                cl = (l.y - p.y + so * p.x - su_max * l.x) / (so - su_max)\n",
    "                c = Point(cl, l.y + su_max * (cl - l.x) + cd / 2)\n",
    "                \n",
    "                yield c()\n",
    "                \n",
    "                u = Point(c.x, c.y + cd)\n",
    "                l = Point(c.x, c.y - cd)\n",
    "                \n",
    "                su_max = su = (d.y - u.y) / (d.x - u.x)\n",
    "                sl_min = sl = (d.y - l.y) / (d.x - l.x)\n",
    "    \n",
    "    if p:\n",
    "        yield p()"
   ]
  },
  {
   "cell_type": "markdown",
   "metadata": {},
   "source": [
    "Постройка графика из сырых данных:"
   ]
  },
  {
   "cell_type": "code",
   "execution_count": 2,
   "metadata": {},
   "outputs": [
    {
     "name": "stderr",
     "output_type": "stream",
     "text": [
      "8737\n"
     ]
    },
    {
     "data": {
      "text/plain": [
       "<matplotlib.axes._subplots.AxesSubplot at 0x1fa5c6995b0>"
      ]
     },
     "execution_count": 2,
     "metadata": {},
     "output_type": "execute_result"
    },
    {
     "data": {
      "image/png": "[encoded data removed]",
      "text/plain": [
       "<Figure size 432x288 with 1 Axes>"
      ]
     },
     "metadata": {
      "needs_background": "light"
     },
     "output_type": "display_data"
    }
   ],
   "source": [
    "%matplotlib inline\n",
    "\n",
    "from datetime import datetime\n",
    "from sys import stderr\n",
    "\n",
    "from pandas import read_csv, DataFrame\n",
    "\n",
    "def get_data(data):\n",
    "    for date, value in data.values.tolist():\n",
    "        yield datetime.strptime(date, \"%Y-%m-%d\").timestamp(), value\n",
    "\n",
    "df = read_csv(\"https://datahub.io/core/oil-prices/r/wti-daily.csv\")\n",
    "\n",
    "print(len(df), file=stderr)\n",
    "df.plot(x=\"Date\", y=\"Price\")"
   ]
  },
  {
   "cell_type": "markdown",
   "metadata": {},
   "source": [
    "Постройка графика из прореженных данных:"
   ]
  },
  {
   "cell_type": "code",
   "execution_count": 3,
   "metadata": {},
   "outputs": [
    {
     "name": "stderr",
     "output_type": "stream",
     "text": [
      "2585\n"
     ]
    },
    {
     "data": {
      "text/plain": [
       "<matplotlib.axes._subplots.AxesSubplot at 0x1fa5cefba30>"
      ]
     },
     "execution_count": 3,
     "metadata": {},
     "output_type": "execute_result"
    },
    {
     "data": {
      "image/png": "[encoded data removed]",
      "text/plain": [
       "<Figure size 432x288 with 1 Axes>"
      ]
     },
     "metadata": {
      "needs_background": "light"
     },
     "output_type": "display_data"
    }
   ],
   "source": [
    "compress = DataFrame(\n",
    "    tuple(\n",
    "        {\n",
    "            \"Date\": datetime.fromtimestamp(date),\n",
    "            \"Price\": value\n",
    "        }\n",
    "        for date, value in swinging_door(\n",
    "            get_data(df), deviation=.5\n",
    "        )\n",
    "    )\n",
    ")\n",
    "\n",
    "print(len(compress), file=stderr)\n",
    "compress.plot(x=\"Date\", y=\"Price\")"
   ]
  }
 ],
 "metadata": {
  "kernelspec": {
   "display_name": "Python 3",
   "language": "python",
   "name": "python3"
  },
  "language_info": {
   "codemirror_mode": {
    "name": "ipython",
    "version": 3
   },
   "file_extension": ".py",
   "mimetype": "text/x-python",
   "name": "python",
   "nbconvert_exporter": "python",
   "pygments_lexer": "ipython3",
   "version": "3.8.3"
  }
 },
 "nbformat": 4,
 "nbformat_minor": 4
}
