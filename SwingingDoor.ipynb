{
 "cells": [
  {
   "cell_type": "markdown",
   "metadata": {},
   "source": [
    "# Swinging Door #"
   ]
  },
  {
   "cell_type": "markdown",
   "metadata": {},
   "source": [
    "Реализация алгоритма Swinging Door на Python."
   ]
  },
  {
   "cell_type": "markdown",
   "metadata": {},
   "source": [
    "Литература:\n",
    " * [Патент US4669097](https://patents.google.com/patent/US4669097 \"patents.google.com\");\n",
    " * [Swinging Door Trending Compression Algorithm for IoT Environments](https://sol.sbc.org.br/index.php/sbesc_estendido/article/download/8650/8551/#:~:text=The%20Swing%20Door%20Trending%20(SDT,process%20information%20systems%20(PIMs). \"sol.sbc.org.br\");\n",
    " * [Компрессия данных в системах промышленной автоматизации. Алгоритм SwingingDoor](https://habr.com/ru/post/105652/ \"habr.com\");"
   ]
  },
  {
   "cell_type": "markdown",
   "metadata": {},
   "source": [
    "Реализация:"
   ]
  },
  {
   "cell_type": "code",
   "execution_count": 1,
   "metadata": {},
   "outputs": [],
   "source": [
    "def swinging_door(data, deviation=.1, mode=False, step=10):\n",
    "    current_step = 0\n",
    "    upper_pivot = lower_pivot = current = (0., 0.)\n",
    "\n",
    "    sloping_upper_max = sloping_lower_min = 0.\n",
    "\n",
    "    for i, item in enumerate(data):\n",
    "        if not i:\n",
    "            entrance = current = item\n",
    "\n",
    "            upper_pivot = (entrance[0], entrance[1] + deviation)\n",
    "            lower_pivot = (entrance[0], entrance[1] - deviation)\n",
    "\n",
    "            yield entrance\n",
    "\n",
    "            current_step = 0\n",
    "            continue\n",
    "\n",
    "        past, current = current, item\n",
    "\n",
    "        sloping_upper = (current[1] - upper_pivot[1]) / (current[0] - upper_pivot[0])\n",
    "        sloping_lower = (current[1] - lower_pivot[1]) / (current[0] - lower_pivot[0])\n",
    "\n",
    "        if not sloping_upper_max and not sloping_lower_min:\n",
    "            sloping_upper_max = sloping_upper\n",
    "            sloping_lower_min = sloping_lower\n",
    "\n",
    "            current_step += 1\n",
    "            continue\n",
    "\n",
    "        if sloping_upper > sloping_upper_max:\n",
    "            sloping_upper_max = sloping_upper\n",
    "\n",
    "            if sloping_upper_max > sloping_lower_min:\n",
    "                entrance = past if mode else ((past[0] + current[0]) / 2, (past[1] + current[1]) / 2 - (deviation / 2))\n",
    "\n",
    "                yield entrance\n",
    "\n",
    "                current_step = 0\n",
    "\n",
    "                upper_pivot = entrance[0], entrance[1] + deviation\n",
    "                lower_pivot = entrance[0], entrance[1] - deviation\n",
    "\n",
    "                sloping_upper_max = (current[1] - upper_pivot[1]) / (current[0] - upper_pivot[0])\n",
    "                sloping_lower_min = (current[1] - lower_pivot[1]) / (current[0] - lower_pivot[0])\n",
    "\n",
    "        elif sloping_lower < sloping_lower_min:\n",
    "            sloping_lower_min = sloping_lower\n",
    "\n",
    "            if sloping_upper_max > sloping_lower_min:\n",
    "                entrance = past if mode else ((past[0] + current[0]) / 2, (past[1] + current[1]) / 2 - (deviation / 2))\n",
    "\n",
    "                yield entrance\n",
    "\n",
    "                current_step = 0\n",
    "\n",
    "                upper_pivot = entrance[0], entrance[1] + deviation\n",
    "                lower_pivot = entrance[0], entrance[1] - deviation\n",
    "\n",
    "                sloping_upper_max = (current[1] - upper_pivot[1]) / (current[0] - upper_pivot[0])\n",
    "                sloping_lower_min = (current[1] - lower_pivot[1]) / (current[0] - lower_pivot[0])\n",
    "\n",
    "        if mode and current_step == step:\n",
    "            entrance = past\n",
    "\n",
    "            yield entrance\n",
    "\n",
    "            current_step = 0\n",
    "\n",
    "            upper_pivot = entrance[0], entrance[1] + deviation\n",
    "            lower_pivot = entrance[0], entrance[1] - deviation\n",
    "\n",
    "            sloping_upper_max = (current[1] - upper_pivot[1]) / (current[0] - upper_pivot[0])\n",
    "            sloping_lower_min = (current[1] - lower_pivot[1]) / (current[0] - lower_pivot[0])\n",
    "\n",
    "        else:\n",
    "            current_step += 1\n",
    "\n",
    "    yield current\n"
   ]
  },
  {
   "cell_type": "markdown",
   "metadata": {},
   "source": [
    "Тестирование:"
   ]
  },
  {
   "cell_type": "code",
   "execution_count": 2,
   "metadata": {},
   "outputs": [],
   "source": [
    "assert list(swinging_door([\n",
    "    (0., 5.0), (1., 5.5), (2., 4.2),\n",
    "    (3., 5.8), (4., 5.2), (5., 2.8),\n",
    "], deviation=1.)) == [(0.0, 5.0), (4.5, 3.5), (5.0, 2.8)]\n",
    "\n",
    "assert list(swinging_door([\n",
    "    (0., 5.0), (1., 5.5), (2., 4.2),\n",
    "    (3., 5.8), (4., 5.2), (5., 6.8),\n",
    "], deviation=1.)) == [(0.0, 5.0), (4.5, 5.5), (5.0, 6.8)]\n",
    "\n",
    "assert list(swinging_door([\n",
    "    (0., 5.0), (1., 5.5), (2., 4.2),\n",
    "    (3., 5.8), (4., 5.2), (5., 6.8),\n",
    "], deviation=1., mode=True)) == [(0.0, 5.0), (4.0, 5.2), (5.0, 6.8)]\n",
    "\n",
    "assert list(swinging_door([\n",
    "    (0., 5.0), (1., 5.5), (2., 4.2),\n",
    "    (3., 5.8), (4., 5.2), (5., 6.8),\n",
    "], deviation=1., mode=True, step=2)) == [(0.0, 5.0), (2.0, 4.2), (5.0, 6.8)]"
   ]
  },
  {
   "cell_type": "markdown",
   "metadata": {},
   "source": [
    "Проверка:"
   ]
  },
  {
   "cell_type": "code",
   "execution_count": 3,
   "metadata": {},
   "outputs": [
    {
     "data": {
      "application/vnd.jupyter.widget-view+json": {
       "model_id": "e38dcc5b94094c76adb05d6efebd6192",
       "version_major": 2,
       "version_minor": 0
      },
      "text/plain": [
       "interactive(children=(FloatSlider(value=1.0, description='deviation', max=10.0, min=0.01, step=0.01), IntSlide…"
      ]
     },
     "metadata": {},
     "output_type": "display_data"
    },
    {
     "data": {
      "text/plain": [
       "<function __main__.re_show(deviation, step, modernized)>"
      ]
     },
     "execution_count": 3,
     "metadata": {},
     "output_type": "execute_result"
    }
   ],
   "source": [
    "from matplotlib.pyplot import plot, show\n",
    "from ipywidgets import FloatSlider, Checkbox, IntSlider, interact\n",
    "\n",
    "my_data = [\n",
    "    (0., 5.0), (1., 5.5), (2., 4.2),\n",
    "    (3., 5.8), (4., 5.2), (5., 6.8),\n",
    "]\n",
    "\n",
    "def re_show(deviation, step, modernized):\n",
    "    o_data = list()\n",
    "    o_index = list()\n",
    "    \n",
    "    for x, y in my_data:\n",
    "        o_data.append(y)\n",
    "        o_index.append(x)\n",
    "    \n",
    "    n_data = list()\n",
    "    n_index = list()\n",
    "\n",
    "    for x, y in swinging_door(my_data, deviation, mode=modernized, step=step):\n",
    "        print(x, y)\n",
    "        n_data.append(y)\n",
    "        n_index.append(x)\n",
    "\n",
    "    plot(o_index, o_data)\n",
    "    plot(n_index, n_data)\n",
    "\n",
    "    show()\n",
    "    \n",
    "interact(\n",
    "    re_show,\n",
    "    deviation=FloatSlider(min=.01, max=10, step=.01, value=1),\n",
    "    step=IntSlider(min=1, max=100, step=1, value=2),\n",
    "    modernized=Checkbox(value=False, description=\"Modernized\", disabled=False)\n",
    ")"
   ]
  },
  {
   "cell_type": "markdown",
   "metadata": {},
   "source": [
    "---"
   ]
  },
  {
   "cell_type": "markdown",
   "metadata": {},
   "source": [
    "## Применение"
   ]
  },
  {
   "cell_type": "markdown",
   "metadata": {},
   "source": [
    "Постройка графика из сырых данных:"
   ]
  },
  {
   "cell_type": "code",
   "execution_count": 1,
   "metadata": {},
   "outputs": [
    {
     "data": {
      "application/vnd.jupyter.widget-view+json": {
       "model_id": "70a54a8f5c7441249c909df61a5af78c",
       "version_major": 2,
       "version_minor": 0
      },
      "text/plain": [
       "interactive(children=(FloatSlider(value=1.0, description='deviation', max=10.0, min=0.01, step=0.01), IntSlide…"
      ]
     },
     "metadata": {},
     "output_type": "display_data"
    },
    {
     "data": {
      "text/plain": [
       "<function __main__.re_show(deviation, step, modernized)>"
      ]
     },
     "execution_count": 1,
     "metadata": {},
     "output_type": "execute_result"
    }
   ],
   "source": [
    "from datetime import datetime\n",
    "\n",
    "from pandas import read_csv\n",
    "from matplotlib.pyplot import figure, show\n",
    "from ipywidgets import FloatSlider, Checkbox, IntSlider, interact\n",
    "\n",
    "from swinging_door import swinging_door\n",
    "\n",
    "data = [\n",
    "    (datetime.strptime(date, \"%Y-%m-%d\").timestamp(), value)\n",
    "    for date, value in read_csv(\n",
    "        \"https://datahub.io/core/oil-prices/r/wti-daily.csv\"\n",
    "    ).values.tolist()\n",
    "]\n",
    "\n",
    "def re_show(deviation, step, modernized):\n",
    "    x = list()\n",
    "    y = list()\n",
    "    \n",
    "    for k, v in data:\n",
    "        x.append(datetime.fromtimestamp(k))\n",
    "        y.append(v)\n",
    "\n",
    "    s_x = list()\n",
    "    s_y = list()\n",
    "\n",
    "    s_data = list(\n",
    "        swinging_door(data, deviation, mode=modernized, step=step)\n",
    "    )\n",
    "\n",
    "    for k, v in s_data:\n",
    "        s_x.append(datetime.fromtimestamp(k))\n",
    "        s_y.append(v)\n",
    "\n",
    "    fig = figure()\n",
    "    fig.set_dpi(100)\n",
    "    fig.suptitle(\"The operation of the Swinging Door algorithm.\")\n",
    "\n",
    "    gs = fig.add_gridspec(2, hspace=.3)\n",
    "\n",
    "    (ax_orig, ax_sd) = fig.add_gridspec(2, hspace=.3).subplots(sharex=True, sharey=True)\n",
    "\n",
    "    ax_orig.set_title(\"Original data\")\n",
    "    ax_orig.plot(x, y, \"tab:blue\", label=f\"count: {len(data)}\")\n",
    "    ax_orig.legend(loc=\"upper left\")\n",
    "\n",
    "    ax_sd.set_title(f\"Compressed data use deviation {deviation}\")\n",
    "    ax_sd.plot(s_x, s_y, \"tab:orange\", label=f\"count: {len(s_data)}\")\n",
    "    ax_sd.legend(loc=\"upper left\")\n",
    "\n",
    "    show()\n",
    "    \n",
    "interact(\n",
    "    re_show,\n",
    "    deviation=FloatSlider(min=.01, max=10, step=.01, value=1),\n",
    "    step=IntSlider(min=1, max=100, step=1, value=10),\n",
    "    modernized=Checkbox(value=False, description=\"Modernized\", disabled=False)\n",
    ")"
   ]
  }
 ],
 "metadata": {
  "kernelspec": {
   "display_name": "Python 3 (ipykernel)",
   "language": "python",
   "name": "python3"
  },
  "language_info": {
   "codemirror_mode": {
    "name": "ipython",
    "version": 3
   },
   "file_extension": ".py",
   "mimetype": "text/x-python",
   "name": "python",
   "nbconvert_exporter": "python",
   "pygments_lexer": "ipython3",
   "version": "3.9.12"
  }
 },
 "nbformat": 4,
 "nbformat_minor": 4
}
