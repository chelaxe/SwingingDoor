{
 "cells": [
  {
   "cell_type": "markdown",
   "metadata": {},
   "source": [
    "# Swinging Door #"
   ]
  },
  {
   "cell_type": "markdown",
   "metadata": {},
   "source": [
    "Реализация алгоритма Swinging Door на Python."
   ]
  },
  {
   "cell_type": "markdown",
   "metadata": {},
   "source": [
    "Литература:\n",
    " * [Патент US4669097](https://patents.google.com/patent/US4669097 \"patents.google.com\");\n",
    " * [Swinging Door Trending Compression Algorithm for IoT Environments](https://sol.sbc.org.br/index.php/sbesc_estendido/article/download/8650/8551/#:~:text=The%20Swing%20Door%20Trending%20(SDT,process%20information%20systems%20(PIMs). \"sol.sbc.org.br\");\n",
    " * [Компрессия данных в системах промышленной автоматизации. Алгоритм SwingingDoor](https://habr.com/ru/post/105652/ \"habr.com\");"
   ]
  },
  {
   "cell_type": "markdown",
   "metadata": {},
   "source": [
    "Реализация:"
   ]
  },
  {
   "cell_type": "code",
   "execution_count": 1,
   "metadata": {},
   "outputs": [],
   "source": [
    "def _sloping_calc(stretch, deviation):\n",
    "    current, entrance = stretch\n",
    "\n",
    "    _divide = current[0] - entrance[0]\n",
    "\n",
    "    try:\n",
    "        upper = (current[1] - (entrance[1] + deviation)) / _divide\n",
    "        lower = (current[1] - (entrance[1] - deviation)) / _divide\n",
    "\n",
    "    except ZeroDivisionError as err:\n",
    "        raise ValueError from err\n",
    "\n",
    "    return upper, lower\n",
    "\n",
    "\n",
    "def _new_corridor(stretch, deviation, upper=True):\n",
    "    past, current = stretch\n",
    "\n",
    "    entrance = (\n",
    "        (past[0] + current[0]) / 2,\n",
    "        (\n",
    "            (past[1] + current[1]) / 2 - (deviation / 2)\n",
    "            if upper\n",
    "            else (past[1] + current[1]) / 2 + (deviation / 2)\n",
    "        ),\n",
    "    )\n",
    "\n",
    "    return entrance, _sloping_calc((current, entrance), deviation)\n",
    "\n",
    "\n",
    "def swinging_door(source, deviation=0.1):\n",
    "    if not deviation:\n",
    "        yield from source\n",
    "        return\n",
    "\n",
    "    try:\n",
    "        entrance = next(source)\n",
    "\n",
    "    except StopIteration:\n",
    "        return\n",
    "\n",
    "    yield entrance\n",
    "\n",
    "    try:\n",
    "        current = next(source)\n",
    "\n",
    "    except StopIteration:\n",
    "        return\n",
    "\n",
    "    sloping_upper, sloping_lower = _sloping_calc(\n",
    "        (current, entrance), deviation\n",
    "    )\n",
    "\n",
    "    sloping_upper_max = sloping_upper\n",
    "    sloping_lower_min = sloping_lower\n",
    "\n",
    "    try:\n",
    "        while True:\n",
    "            past = current\n",
    "            current = next(source)\n",
    "\n",
    "            sloping_upper, sloping_lower = _sloping_calc(\n",
    "                (current, entrance), deviation\n",
    "            )\n",
    "\n",
    "            if sloping_upper > sloping_upper_max:\n",
    "                sloping_upper_max = sloping_upper\n",
    "\n",
    "                if sloping_upper_max > sloping_lower_min:\n",
    "                    entrance, (\n",
    "                        sloping_upper_max,\n",
    "                        sloping_lower_min,\n",
    "                    ) = _new_corridor((past, current), deviation)\n",
    "\n",
    "                    yield entrance\n",
    "\n",
    "            elif sloping_lower < sloping_lower_min:\n",
    "                sloping_lower_min = sloping_lower\n",
    "\n",
    "                if sloping_upper_max > sloping_lower_min:\n",
    "                    entrance, (\n",
    "                        sloping_upper_max,\n",
    "                        sloping_lower_min,\n",
    "                    ) = _new_corridor((past, current), deviation, upper=False)\n",
    "\n",
    "                    yield entrance\n",
    "\n",
    "    except StopIteration:\n",
    "        yield past"
   ]
  },
  {
   "cell_type": "markdown",
   "metadata": {},
   "source": [
    "Тестирование:"
   ]
  },
  {
   "cell_type": "code",
   "execution_count": 2,
   "metadata": {},
   "outputs": [],
   "source": [
    "assert list(swinging_door(iter([\n",
    "    (1, 6), (2, 6.5), (3, 5.5),\n",
    "    (4, 6.5), (5, 8), (6, 7.5),\n",
    "    (7, 8), (8, 9.5),\n",
    "]), 1)) == [(1, 6), (7.5, 8.25), (8, 9.5)]"
   ]
  },
  {
   "cell_type": "code",
   "execution_count": 3,
   "metadata": {},
   "outputs": [],
   "source": [
    "assert list(swinging_door(iter([\n",
    "    (1, 6), (2, 6.5), (3, 5.5),\n",
    "    (4, 6.5), (5, 8), (6, 7.5),\n",
    "    (7, 8), (8, 6),\n",
    "]), 1)) == [(1, 6), (7.5, 7.5), (8, 6)]"
   ]
  },
  {
   "cell_type": "markdown",
   "metadata": {},
   "source": [
    "Проверка:"
   ]
  },
  {
   "cell_type": "code",
   "execution_count": 4,
   "metadata": {},
   "outputs": [
    {
     "data": {
      "application/vnd.jupyter.widget-view+json": {
       "model_id": "a864351b369b494a9d84bf36d4fd06e6",
       "version_major": 2,
       "version_minor": 0
      },
      "text/plain": [
       "interactive(children=(FloatSlider(value=1.0, description='deviation', max=2.0, min=0.01, step=0.01), Output())…"
      ]
     },
     "metadata": {},
     "output_type": "display_data"
    }
   ],
   "source": [
    "from matplotlib.pyplot import plot, show\n",
    "from ipywidgets import FloatSlider, interact\n",
    "\n",
    "my_data = [\n",
    "    (0., 5.0), (1., 5.5), (2., 4.2),\n",
    "    (3., 5.8), (4., 5.2), (5., 6.8),\n",
    "]\n",
    "\n",
    "def re_show(deviation):\n",
    "    o_data = list()\n",
    "    o_index = list()\n",
    "    \n",
    "    for x, y in my_data:\n",
    "        o_data.append(y)\n",
    "        o_index.append(x)\n",
    "    \n",
    "    n_data = list()\n",
    "    n_index = list()\n",
    "\n",
    "    for x, y in swinging_door(iter(my_data), deviation):\n",
    "        print(x, y)\n",
    "        n_data.append(y)\n",
    "        n_index.append(x)\n",
    "\n",
    "    plot(o_index, o_data)\n",
    "    plot(n_index, n_data)\n",
    "\n",
    "    show()\n",
    "    \n",
    "interact(\n",
    "    re_show,\n",
    "    deviation=FloatSlider(min=.01, max=2, step=.01, value=1)\n",
    ");"
   ]
  },
  {
   "cell_type": "markdown",
   "metadata": {},
   "source": [
    "---"
   ]
  },
  {
   "cell_type": "markdown",
   "metadata": {},
   "source": [
    "## Применение"
   ]
  },
  {
   "cell_type": "markdown",
   "metadata": {},
   "source": [
    "Постройка графика из сырых данных:"
   ]
  },
  {
   "cell_type": "code",
   "execution_count": 5,
   "metadata": {},
   "outputs": [
    {
     "data": {
      "application/vnd.jupyter.widget-view+json": {
       "model_id": "53568153af444705b33be4c79c6eaf04",
       "version_major": 2,
       "version_minor": 0
      },
      "text/plain": [
       "interactive(children=(FloatSlider(value=1.0, description='deviation', max=10.0, min=0.01, step=0.01), Output()…"
      ]
     },
     "metadata": {},
     "output_type": "display_data"
    }
   ],
   "source": [
    "from datetime import datetime\n",
    "\n",
    "from pandas import read_csv\n",
    "from matplotlib.pyplot import figure, show\n",
    "from ipywidgets import FloatSlider, interact\n",
    "\n",
    "from swinging_door import swinging_door\n",
    "\n",
    "data = [\n",
    "    (datetime.strptime(date, \"%Y-%m-%d\").timestamp(), value)\n",
    "    for date, value in read_csv(\n",
    "        \"https://raw.githubusercontent.com/datasets/oil-prices/refs/heads/main/data/wti-daily.csv\"\n",
    "    ).values.tolist()\n",
    "]\n",
    "\n",
    "def re_show(deviation):\n",
    "    x = list()\n",
    "    y = list()\n",
    "    \n",
    "    for k, v in data:\n",
    "        x.append(datetime.fromtimestamp(k))\n",
    "        y.append(v)\n",
    "\n",
    "    s_x = list()\n",
    "    s_y = list()\n",
    "\n",
    "    s_data = list(\n",
    "        swinging_door(iter(data), deviation)\n",
    "    )\n",
    "\n",
    "    for k, v in s_data:\n",
    "        s_x.append(datetime.fromtimestamp(k))\n",
    "        s_y.append(v)\n",
    "\n",
    "    fig = figure()\n",
    "    fig.set_dpi(100)\n",
    "    fig.suptitle(\"The operation of the Swinging Door algorithm.\")\n",
    "\n",
    "    gs = fig.add_gridspec(2, hspace=.3)\n",
    "\n",
    "    (ax_orig, ax_sd) = fig.add_gridspec(2, hspace=.3).subplots(sharex=True, sharey=True)\n",
    "\n",
    "    ax_orig.set_title(\"Original data\")\n",
    "    ax_orig.plot(x, y, \"tab:blue\", label=f\"count: {len(data)}\")\n",
    "    ax_orig.legend(loc=\"upper left\")\n",
    "\n",
    "    ax_sd.set_title(f\"Compressed data use deviation {deviation}\")\n",
    "    ax_sd.plot(s_x, s_y, \"tab:orange\", label=f\"count: {len(s_data)}\")\n",
    "    ax_sd.legend(loc=\"upper left\")\n",
    "\n",
    "    show()\n",
    "    \n",
    "interact(\n",
    "    re_show,\n",
    "    deviation=FloatSlider(min=.01, max=10, step=.01, value=1)\n",
    ");"
   ]
  }
 ],
 "metadata": {
  "kernelspec": {
   "display_name": "Python 3 (ipykernel)",
   "language": "python",
   "name": "python3"
  },
  "language_info": {
   "codemirror_mode": {
    "name": "ipython",
    "version": 3
   },
   "file_extension": ".py",
   "mimetype": "text/x-python",
   "name": "python",
   "nbconvert_exporter": "python",
   "pygments_lexer": "ipython3",
   "version": "3.12.7"
  }
 },
 "nbformat": 4,
 "nbformat_minor": 4
}
